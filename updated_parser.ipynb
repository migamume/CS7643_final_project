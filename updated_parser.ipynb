{
 "cells": [
  {
   "cell_type": "code",
   "execution_count": 1,
   "metadata": {},
   "outputs": [
    {
     "name": "stderr",
     "output_type": "stream",
     "text": [
      "WARNING:root:Failed to setup logger using env var LOG_CFG_PATH\n"
     ]
    }
   ],
   "source": [
    "from holdup.parser.replayable_hand import ReplayableHand, Streets"
   ]
  },
  {
   "cell_type": "code",
   "execution_count": 2,
   "metadata": {},
   "outputs": [],
   "source": [
    "split_hands = \"\"\"STATE:0:r241f:8h4c|6c5h:-100|100:act1_2pn_2016|hugh_2pn_2016\n",
    "        STATE:1:r223f:6h9c|Jc8h:-100|100:hugh_2pn_2016|act1_2pn_2016\n",
    "        STATE:2:r241r675c/cr1629c/cc/r2606c:QcAc|TsAs/JsTh7d/Qh/Td:-2606|2606:act1_2pn_2016|hugh_2pn_2016\n",
    "        STATE:3:cc/r241c/r581f:2dQh|6d3s/Jc4h2c/Tc:241|-241:hugh_2pn_2016|act1_2pn_2016\n",
    "        STATE:4:r241r809c/cr1953c/cr4714f:8cTc|9sAd/3cAc3s/Js:-1953|1953:act1_2pn_2016|hugh_2pn_2016\n",
    "        STATE:5:r273f:9d4c|JdTd:-100|100:hugh_2pn_2016|act1_2pn_2016\n",
    "        STATE:6:r241r675c/cr1629c/cc/cc:9c9s|7s7d/AcAhKh/5c/Qc:1629|-1629:act1_2pn_2016|hugh_2pn_2016\n",
    "        STATE:7:r273f:4d3d|KdQh:-100|100:hugh_2pn_2016|act1_2pn_2016\n",
    "        STATE:8:r241f:7c5s|6h6s:-100|100:act1_2pn_2016|hugh_2pn_2016\"\"\".split(\"\\n\")\n",
    "\n",
    "hand0 = ReplayableHand(split_hands[0]).matrix_next_action_by_street()\n",
    "hands = [ReplayableHand(h).matrix_next_action_by_street() for h in split_hands]"
   ]
  },
  {
   "cell_type": "code",
   "execution_count": 7,
   "metadata": {},
   "outputs": [
    {
     "name": "stdout",
     "output_type": "stream",
     "text": [
      "Each hand is now a dictionary, keyed by street with a list of actions: <class 'list'>\n",
      "Each list item now contains the matrix and a tuple that indicates whetherthe next action crosses a round boundary and what the action is: (array([[0., 0., 0., 0., 0., 0., 0., 0., 0., 0., 1., 0., 0., 0., 0., 1.,\n",
      "        0., 0., 0., 0.],\n",
      "       [0., 0., 0., 0., 0., 0., 0., 0., 0., 0., 0., 0., 0., 0., 0., 0.,\n",
      "        0., 0., 0., 0.],\n",
      "       [0., 0., 0., 0., 0., 0., 1., 0., 0., 0., 0., 0., 0., 0., 0., 0.,\n",
      "        0., 0., 0., 0.],\n",
      "       [0., 0., 0., 0., 0., 0., 0., 0., 0., 0., 0., 0., 0., 0., 0., 0.,\n",
      "        0., 0., 0., 0.],\n",
      "       [0., 0., 0., 0., 0., 0., 0., 0., 1., 0., 0., 0., 0., 0., 0., 0.,\n",
      "        0., 0., 0., 0.],\n",
      "       [0., 0., 0., 0., 0., 0., 0., 0., 0., 0., 0., 0., 0., 0., 0., 0.,\n",
      "        0., 0., 0., 0.],\n",
      "       [0., 0., 0., 0., 0., 0., 0., 0., 0., 1., 0., 0., 0., 0., 0., 0.,\n",
      "        0., 0., 0., 0.],\n",
      "       [0., 0., 0., 0., 0., 0., 0., 0., 0., 0., 0., 0., 0., 0., 0., 0.,\n",
      "        0., 0., 0., 0.],\n",
      "       [0., 1., 0., 0., 0., 0., 0., 0., 0., 0., 0., 0., 0., 0., 0., 0.,\n",
      "        0., 0., 0., 0.],\n",
      "       [0., 0., 0., 0., 0., 0., 0., 0., 0., 0., 0., 0., 0., 0., 0., 0.,\n",
      "        0., 0., 0., 0.],\n",
      "       [0., 0., 0., 0., 0., 0., 0., 0., 0., 0., 0., 0., 0., 0., 0., 0.,\n",
      "        0., 0., 0., 0.],\n",
      "       [0., 0., 0., 0., 0., 0., 0., 0., 0., 0., 0., 0., 0., 0., 0., 0.,\n",
      "        0., 0., 0., 0.],\n",
      "       [0., 0., 0., 0., 0., 0., 0., 0., 0., 0., 0., 0., 0., 0., 0., 0.,\n",
      "        0., 0., 0., 0.],\n",
      "       [0., 0., 0., 0., 0., 0., 0., 0., 0., 0., 0., 0., 0., 0., 0., 0.,\n",
      "        0., 0., 0., 0.],\n",
      "       [0., 0., 0., 0., 0., 0., 0., 0., 0., 0., 0., 0., 0., 0., 0., 0.,\n",
      "        0., 0., 0., 0.],\n",
      "       [0., 0., 0., 0., 0., 0., 0., 0., 0., 0., 0., 0., 0., 0., 0., 0.,\n",
      "        0., 0., 0., 0.],\n",
      "       [0., 0., 0., 0., 0., 0., 0., 0., 0., 0., 0., 0., 0., 0., 0., 0.,\n",
      "        0., 0., 0., 0.],\n",
      "       [0., 0., 0., 0., 0., 0., 0., 0., 0., 0., 0., 0., 0., 0., 0., 0.,\n",
      "        0., 0., 0., 0.],\n",
      "       [0., 0., 0., 0., 0., 0., 0., 0., 0., 0., 0., 0., 0., 0., 0., 0.,\n",
      "        0., 0., 0., 0.],\n",
      "       [0., 0., 0., 0., 0., 0., 0., 0., 0., 0., 0., 0., 0., 0., 0., 0.,\n",
      "        0., 0., 0., 0.]]), (False, 3))\n"
     ]
    }
   ],
   "source": [
    "print(f\"Each hand is now a dictionary, keyed by street with a list of actions: {type(hands[0][int(Streets.Preflop)])}\")\n",
    "print(f\"Each list item now contains the matrix and a tuple that indicates whether\" + \\\n",
    "       f\"the next action crosses a round boundary and what the action is: {hands[0][int(Streets.Preflop)][0]}\")"
   ]
  },
  {
   "cell_type": "code",
   "execution_count": 27,
   "metadata": {},
   "outputs": [],
   "source": [
    "import random\n",
    "import os\n",
    "from typing import Tuple, List\n",
    "import functools\n",
    "\n",
    "import numpy as np\n",
    "\n",
    "\"\"\"\n",
    "- Last possible action to final action\n",
    "tuple(pf, f, t, r)\n",
    "preflop: List[Matrix, Integer: Supervised Target]\n",
    "flop: List[Matrix, Integer: Supervised Target]\n",
    "turn: List[Matrix, Integer: Supervised Target]\n",
    "river: List[Matrix, Integer: Supervised Target]\n",
    "\n",
    "- Every possible action to subsequent action; not across round boundaries\n",
    "preflop: List[Matrix, Integer: Supervised Target]\n",
    "flop: List[Matrix, Integer: Supervised Target]\n",
    "turn: List[Matrix, Integer: Supervised Target]\n",
    "river: List[Matrix, Integer: Supervised Target]\n",
    "\"\"\"\n",
    "def reducer(reduce_type: str):\n",
    "    def doit(agg: Tuple[\n",
    "        List[Tuple[np.ndarray, Tuple[bool, int]]],\n",
    "        List[Tuple[np.ndarray, Tuple[bool, int]]],\n",
    "        List[Tuple[np.ndarray, Tuple[bool, int]]],\n",
    "        List[Tuple[np.ndarray, Tuple[bool, int]]]\n",
    "        ], hands_dict):\n",
    "\n",
    "        \n",
    "        if reduce_type == \"last_possible\":\n",
    "            # Get the 2nd to last action\n",
    "            appender = lambda street, actions: street + [actions[-2]] if len(actions) > 1 else street\n",
    "        else:\n",
    "            # Get all actions up to the last action\n",
    "            appender = lambda street, actions: street + actions[0:-1] if len(actions) > 1 else street\n",
    "\n",
    "        return [\n",
    "            appender(actions_for_training, hands_dict[street_name])\n",
    "            for street_name, actions_for_training in zip(\n",
    "                (Streets.Preflop, Streets.Flop, Streets.Turn, Streets.River),\n",
    "                agg\n",
    "            )\n",
    "        ]\n",
    "    \n",
    "    return doit\n",
    "\n",
    "\n",
    "def get_test_file_lines():\n",
    "    # To verify for yourself, copy some hands to a file in some directory and set it here\n",
    "    # Then use the csv file enumeration\n",
    "    data_dir = r\"/home/david/development/omscs/dl/CS7643_final_project/src/holdup/data/test\"\n",
    "\n",
    "    # Iterate over log (NOT CSV!!) files; log files are RAW\n",
    "    csv_files = [data_dir + \"/\" +f for f in os.listdir(data_dir) if f.endswith('.log')]\n",
    "    random.shuffle(csv_files)\n",
    "    return [\n",
    "        [open(csv_file, 'r').readlines()]\n",
    "        for csv_file in csv_files\n",
    "    ]\n",
    "\n",
    "\n",
    "def get_provided_examples():\n",
    "    return [\n",
    "        \"\"\"STATE:0:cc/cr200f:3c8s|5c7d/ThKhTc:-100|100:Rembrant|SartreNL\n",
    "        STATE:1:cr300f:As9s|8h6c:100|-100:SartreNL|Rembrant\n",
    "        STATE:2:cc/cr200f:Kc7d|2d8d/TsAc6c:-100|100:Rembrant|SartreNL\n",
    "        STATE:3:r400f:2c5h|AhTd:-100|100:SartreNL|Rembrant\n",
    "        STATE:4:r300f:8s4c|5dAd:-100|100:Rembrant|SartreNL\"\"\".split(\"\\n\")\n",
    "    ]"
   ]
  },
  {
   "cell_type": "code",
   "execution_count": 54,
   "metadata": {},
   "outputs": [],
   "source": [
    "def demonstrate_dataset_creation(last_possible: bool) -> None:\n",
    "    per_street_actions = []\n",
    "\n",
    "    # Valid values: \"last_possible\", if not this, assuming you want all actions up to last per street\n",
    "    reduce_type = \"last_possible\" if last_possible else \"lolololl\"\n",
    "\n",
    "    # You can switch to get_test_file_lines() if you want to reading a directory locally\n",
    "    for hand_group in get_provided_examples():\n",
    "        data = [ReplayableHand(h).matrix_next_action_by_street() for h in hand_group]\n",
    "        per_street_actions.append(functools.reduce(reducer(reduce_type), data, ([], [], [], [])))\n",
    "\n",
    "    # First index = file (\"hand group\") index, second = street, third = Actions (ie: List[Tuple[matrix, Tuple[bool, int]]])\n",
    "    print(\"Some return type info\")\n",
    "    print(len(per_street_actions))\n",
    "    print(len(per_street_actions[0]))\n",
    "    print(len(per_street_actions[0][0]))\n",
    "\n",
    "    print(\"Next actions (either from each penultimate preflop state, or from all non-final preflop states)\")\n",
    "    preflop = [\n",
    "        # This is the data structure we agreeged upon.\n",
    "        # Matrix, Next Action\n",
    "        (action[0], action[1][1]) \n",
    "        for file in range(len(per_street_actions))\n",
    "        for action in per_street_actions[file][0] # Street set here\n",
    "    ]\n",
    "\n",
    "    # Verify next actions.\n",
    "    # For the example, these are all correct. You should verify to ensure you understand why/how.\n",
    "    for i in range(len(preflop)):\n",
    "        print(preflop[i][1])\n",
    "\n",
    "    print(\"Next actions (either from each penultimate flop state, or from all non-final flop states)\")\n",
    "    flop = [\n",
    "        (action[0], action[1][1]) \n",
    "        for file in range(len(per_street_actions))\n",
    "        for action in per_street_actions[file][1]\n",
    "    ]\n",
    "\n",
    "    # For the example, only two hands went to the flop\n",
    "    # STATE:0:cc/cr200f:3c8s|5c7d/ThKhTc:-100|100:Rembrant|SartreNL\n",
    "    # STATE:2:cc/cr200f:Kc7d|2d8d/TsAc6c:-100|100:Rembrant|SartreNL\n",
    "    for i in range(len(flop)):\n",
    "        print(flop[i][1])\n",
    "\n",
    "    print(\"This conclues all hands from provided examples. 3 indicates the next action is fold\")"
   ]
  },
  {
   "cell_type": "code",
   "execution_count": 55,
   "metadata": {},
   "outputs": [
    {
     "name": "stdout",
     "output_type": "stream",
     "text": [
      "Some return type info\n",
      "1\n",
      "4\n",
      "5\n",
      "Next actions (either from each penultimate preflop state, or from all non-final preflop states)\n",
      "0\n",
      "3\n",
      "0\n",
      "3\n",
      "3\n",
      "Next actions (either from each penultimate flop state, or from all non-final flop states)\n",
      "3\n",
      "3\n",
      "This conclues all hands from provided examples. 3 indicates the next action is fold\n"
     ]
    }
   ],
   "source": [
    "last_possible = True\n",
    "demonstrate_dataset_creation(last_possible)"
   ]
  },
  {
   "cell_type": "code",
   "execution_count": 56,
   "metadata": {},
   "outputs": [
    {
     "name": "stdout",
     "output_type": "stream",
     "text": [
      "Some return type info\n",
      "1\n",
      "4\n",
      "6\n",
      "Next actions (either from each penultimate preflop state, or from all non-final preflop states)\n",
      "0\n",
      "2\n",
      "3\n",
      "0\n",
      "3\n",
      "3\n",
      "Next actions (either from each penultimate flop state, or from all non-final flop states)\n",
      "2\n",
      "3\n",
      "2\n",
      "3\n",
      "This conclues all hands from provided examples. 3 indicates the next action is fold\n"
     ]
    }
   ],
   "source": [
    "last_possible = False\n",
    "demonstrate_dataset_creation(last_possible)"
   ]
  },
  {
   "cell_type": "code",
   "execution_count": null,
   "metadata": {},
   "outputs": [
    {
     "name": "stdout",
     "output_type": "stream",
     "text": [
      "Some return type info\n",
      "1\n",
      "4\n",
      "5\n",
      "Next action following each penultimate preflop state\n",
      "0\n",
      "3\n",
      "0\n",
      "3\n",
      "3\n",
      "Next action following each penultimate flop state\n",
      "3\n",
      "3\n",
      "This conclues all hands from provided examples. 3 indicates the next action is fold\n"
     ]
    }
   ],
   "source": [
    "last_possible = True\n",
    "demonstrate_dataset_creation(last_possible)"
   ]
  },
  {
   "cell_type": "code",
   "execution_count": 36,
   "metadata": {},
   "outputs": [],
   "source": []
  },
  {
   "cell_type": "code",
   "execution_count": 40,
   "metadata": {},
   "outputs": [
    {
     "name": "stdout",
     "output_type": "stream",
     "text": [
      "0\n",
      "3\n",
      "0\n",
      "3\n",
      "3\n"
     ]
    }
   ],
   "source": []
  },
  {
   "cell_type": "code",
   "execution_count": 37,
   "metadata": {},
   "outputs": [],
   "source": []
  },
  {
   "cell_type": "code",
   "execution_count": 41,
   "metadata": {},
   "outputs": [
    {
     "name": "stdout",
     "output_type": "stream",
     "text": [
      "3\n",
      "3\n"
     ]
    }
   ],
   "source": []
  },
  {
   "attachments": {},
   "cell_type": "markdown",
   "metadata": {},
   "source": [
    "# Legacy below\n",
    "\n",
    "Changes have been made and the below code wasn't updated. If it's important you someone, it shouldn't be hard to update it."
   ]
  },
  {
   "cell_type": "code",
   "execution_count": 3,
   "metadata": {},
   "outputs": [
    {
     "name": "stdout",
     "output_type": "stream",
     "text": [
      "This hand goes raise fold. The next action is fold: (False, 3)\n",
      "and then there are no more actions: (True, -1)\n",
      "The same for the next hand: (False, 3),(True, -1)\n",
      "**********\n",
      "        STATE:2:r241r675c/cr1629c/cc/r2606c:QcAc|TsAs/JsTh7d/Qh/Td:-2606|2606:act1_2pn_2016|hugh_2pn_2016\n",
      "Next hand goes raise, raise, call: (False, 2),(False, 1),(True, 0)\n",
      "check, raise, call: (False, 2),(False, 1),(True, 0)\n",
      "check, check: (False, 0),(True, 2)\n",
      "raise, call: (False, 1),(True, -1)\n"
     ]
    }
   ],
   "source": [
    "print(f\"This hand goes raise fold. The next action is fold: {hands[0][int(Streets.Preflop)][0][1]}\")\n",
    "print(f\"and then there are no more actions: {hands[0][int(Streets.Preflop)][1][1]}\")\n",
    "print(f\"The same for the next hand: {','.join([str(hands[1][int(Streets.Preflop)][n][1]) for n in range(2)])}\")\n",
    "print(\"*\" * 10 + f\"\\n{split_hands[2]}\")\n",
    "print(f\"Next hand goes raise, raise, call: {','.join([str(hands[2][int(Streets.Preflop)][n][1]) for n in range(3)])}\")\n",
    "print(f\"check, raise, call: {','.join([str(hands[2][int(Streets.Flop)][n][1]) for n in range(3)])}\")\n",
    "print(f\"check, check: {','.join([str(hands[2][int(Streets.Turn)][n][1]) for n in range(2)])}\")\n",
    "print(f\"raise, call: {','.join([str(hands[2][int(Streets.River)][n][1]) for n in range(2)])}\")"
   ]
  },
  {
   "cell_type": "code",
   "execution_count": 4,
   "metadata": {},
   "outputs": [
    {
     "name": "stdout",
     "output_type": "stream",
     "text": [
      "You can play with changing the street and action indices to see how the output matrix changes\n"
     ]
    },
    {
     "data": {
      "text/plain": [
       "array([[0., 1., 1., 0.],\n",
       "       [1., 1., 0., 0.],\n",
       "       [0., 0., 0., 0.],\n",
       "       [0., 0., 0., 0.],\n",
       "       [0., 0., 1., 0.],\n",
       "       [0., 0., 1., 0.],\n",
       "       [0., 0., 0., 0.],\n",
       "       [0., 0., 0., 0.]])"
      ]
     },
     "execution_count": 4,
     "metadata": {},
     "output_type": "execute_result"
    }
   ],
   "source": [
    "print(\"You can play with changing the street and action indices to see how the output matrix changes\")\n",
    "hands[2][int(Streets.Flop)][2][0][0:8,13:17]"
   ]
  },
  {
   "cell_type": "code",
   "execution_count": 13,
   "metadata": {},
   "outputs": [
    {
     "name": "stdout",
     "output_type": "stream",
     "text": [
      "[[0. 0. 1. 0.]\n",
      " [0. 0. 0. 0.]\n",
      " [0. 0. 0. 0.]\n",
      " [0. 0. 0. 0.]]\n"
     ]
    },
    {
     "data": {
      "text/plain": [
       "array([[0., 0., 0., 0.],\n",
       "       [0., 0., 0., 0.],\n",
       "       [0., 0., 0., 0.],\n",
       "       [0., 0., 0., 0.]])"
      ]
     },
     "execution_count": 13,
     "metadata": {},
     "output_type": "execute_result"
    }
   ],
   "source": [
    "# After the first action, only actions recorded are for player A, who bet\n",
    "print(hand0[0][0:4,13:17])\n",
    "hand0[0][4:8,13:17]"
   ]
  },
  {
   "cell_type": "code",
   "execution_count": 14,
   "metadata": {},
   "outputs": [
    {
     "name": "stdout",
     "output_type": "stream",
     "text": [
      "[[0. 0. 1. 0.]\n",
      " [0. 0. 0. 0.]\n",
      " [0. 0. 0. 0.]\n",
      " [0. 0. 0. 0.]]\n"
     ]
    },
    {
     "data": {
      "text/plain": [
       "array([[0., 0., 0., 1.],\n",
       "       [0., 0., 0., 0.],\n",
       "       [0., 0., 0., 0.],\n",
       "       [0., 0., 0., 0.]])"
      ]
     },
     "execution_count": 14,
     "metadata": {},
     "output_type": "execute_result"
    }
   ],
   "source": [
    "# After the second, we see player B's action recorded\n",
    "print(hand0[1][0:4,13:17])\n",
    "hand0[1][4:8,13:17]"
   ]
  },
  {
   "cell_type": "code",
   "execution_count": 3,
   "metadata": {},
   "outputs": [],
   "source": [
    "# This one went to the river, so we can see different streets and track hand matrices\n",
    "hand2 = ReplayableHand(hands[2]).generate_matrices()"
   ]
  },
  {
   "cell_type": "code",
   "execution_count": 6,
   "metadata": {},
   "outputs": [
    {
     "name": "stdout",
     "output_type": "stream",
     "text": [
      "[[1. 0. 1. 0. 0. 0. 0. 0. 0. 0. 0. 0. 0.]\n",
      " [0. 0. 0. 0. 0. 0. 0. 0. 0. 0. 0. 0. 0.]\n",
      " [0. 0. 0. 0. 0. 0. 0. 0. 0. 0. 0. 0. 0.]\n",
      " [0. 0. 0. 0. 0. 0. 0. 0. 0. 0. 0. 0. 0.]]\n",
      "[[1. 0. 1. 0. 0. 0. 0. 0. 0. 0. 0. 0. 0.]\n",
      " [0. 0. 0. 0. 0. 0. 0. 1. 0. 0. 0. 0. 0.]\n",
      " [0. 0. 0. 0. 1. 0. 0. 0. 0. 0. 0. 0. 0.]\n",
      " [0. 0. 0. 1. 0. 0. 0. 0. 0. 0. 0. 0. 0.]]\n",
      "[[1. 0. 1. 0. 0. 0. 0. 0. 0. 0. 0. 0. 0.]\n",
      " [0. 0. 0. 0. 0. 0. 0. 1. 0. 0. 0. 0. 0.]\n",
      " [0. 0. 1. 0. 1. 0. 0. 0. 0. 0. 0. 0. 0.]\n",
      " [0. 0. 0. 1. 0. 0. 0. 0. 0. 0. 0. 0. 0.]]\n",
      "[[1. 0. 1. 0. 0. 0. 0. 0. 0. 0. 0. 0. 0.]\n",
      " [0. 0. 0. 0. 1. 0. 0. 1. 0. 0. 0. 0. 0.]\n",
      " [0. 0. 1. 0. 1. 0. 0. 0. 0. 0. 0. 0. 0.]\n",
      " [0. 0. 0. 1. 0. 0. 0. 0. 0. 0. 0. 0. 0.]]\n"
     ]
    }
   ],
   "source": [
    "# Player A has AcQc and community cards are JsTh7d/Qh/Td\n",
    "# Show the evolution of player A's hand matrix across each round\n",
    "# This hand had 3 actions preflop, 3 actions flop, two actions turn, two actions river\n",
    "print(hand2[0][0:4,0:13])\n",
    "print(hand2[3][0:4,0:13])\n",
    "print(hand2[6][0:4,0:13])\n",
    "print(hand2[8][0:4,0:13])"
   ]
  },
  {
   "cell_type": "code",
   "execution_count": 4,
   "metadata": {},
   "outputs": [
    {
     "name": "stdout",
     "output_type": "stream",
     "text": [
      "********************\n",
      "[[0. 1. 0. 0.]\n",
      " [0. 0. 0. 0.]\n",
      " [0. 0. 0. 0.]\n",
      " [0. 0. 0. 0.]\n",
      " [0. 0. 0. 0.]\n",
      " [0. 0. 0. 0.]\n",
      " [0. 0. 0. 0.]\n",
      " [0. 0. 0. 0.]]\n",
      "********************\n",
      "[[0. 1. 0. 0.]\n",
      " [0. 0. 0. 0.]\n",
      " [0. 0. 0. 0.]\n",
      " [0. 0. 0. 0.]\n",
      " [0. 0. 1. 0.]\n",
      " [0. 0. 0. 0.]\n",
      " [0. 0. 0. 0.]\n",
      " [0. 0. 0. 0.]]\n",
      "********************\n",
      "[[0. 1. 1. 0.]\n",
      " [0. 0. 0. 0.]\n",
      " [0. 0. 0. 0.]\n",
      " [0. 0. 0. 0.]\n",
      " [0. 0. 1. 0.]\n",
      " [0. 0. 0. 0.]\n",
      " [0. 0. 0. 0.]\n",
      " [0. 0. 0. 0.]]\n",
      "********************\n",
      "[[0. 1. 1. 0.]\n",
      " [0. 1. 0. 0.]\n",
      " [0. 0. 0. 0.]\n",
      " [0. 0. 0. 0.]\n",
      " [0. 0. 1. 0.]\n",
      " [0. 0. 0. 0.]\n",
      " [0. 0. 0. 0.]\n",
      " [0. 0. 0. 0.]]\n",
      "********************\n",
      "[[0. 1. 1. 0.]\n",
      " [0. 1. 0. 0.]\n",
      " [0. 0. 0. 0.]\n",
      " [0. 0. 0. 0.]\n",
      " [0. 0. 1. 0.]\n",
      " [0. 0. 1. 0.]\n",
      " [0. 0. 0. 0.]\n",
      " [0. 0. 0. 0.]]\n",
      "********************\n",
      "[[0. 1. 1. 0.]\n",
      " [1. 1. 0. 0.]\n",
      " [0. 0. 0. 0.]\n",
      " [0. 0. 0. 0.]\n",
      " [0. 0. 1. 0.]\n",
      " [0. 0. 1. 0.]\n",
      " [0. 0. 0. 0.]\n",
      " [0. 0. 0. 0.]]\n",
      "********************\n",
      "[[0. 1. 1. 0.]\n",
      " [1. 1. 0. 0.]\n",
      " [1. 0. 0. 0.]\n",
      " [0. 0. 0. 0.]\n",
      " [0. 0. 1. 0.]\n",
      " [0. 0. 1. 0.]\n",
      " [0. 0. 0. 0.]\n",
      " [0. 0. 0. 0.]]\n",
      "********************\n",
      "[[0. 1. 1. 0.]\n",
      " [1. 1. 0. 0.]\n",
      " [1. 0. 0. 0.]\n",
      " [0. 0. 0. 0.]\n",
      " [0. 0. 1. 0.]\n",
      " [0. 0. 1. 0.]\n",
      " [1. 0. 0. 0.]\n",
      " [0. 0. 0. 0.]]\n",
      "********************\n",
      "[[0. 1. 1. 0.]\n",
      " [1. 1. 0. 0.]\n",
      " [1. 0. 0. 0.]\n",
      " [0. 0. 1. 0.]\n",
      " [0. 0. 1. 0.]\n",
      " [0. 0. 1. 0.]\n",
      " [1. 0. 0. 0.]\n",
      " [0. 0. 0. 0.]]\n",
      "********************\n",
      "[[0. 1. 1. 0.]\n",
      " [1. 1. 0. 0.]\n",
      " [1. 0. 0. 0.]\n",
      " [0. 0. 1. 0.]\n",
      " [0. 0. 1. 0.]\n",
      " [0. 0. 1. 0.]\n",
      " [1. 0. 0. 0.]\n",
      " [0. 1. 0. 0.]]\n"
     ]
    }
   ],
   "source": [
    "# Show the evolution of action matrices across rounds. You'll need to open in a text editor if running in VS code\n",
    "for i in range(len(hand2)):\n",
    "    print(\"*\" * 20)\n",
    "    print(hand2[i][0:8,13:17])"
   ]
  }
 ],
 "metadata": {
  "kernelspec": {
   "display_name": "groupproject",
   "language": "python",
   "name": "python3"
  },
  "language_info": {
   "codemirror_mode": {
    "name": "ipython",
    "version": 3
   },
   "file_extension": ".py",
   "mimetype": "text/x-python",
   "name": "python",
   "nbconvert_exporter": "python",
   "pygments_lexer": "ipython3",
   "version": "3.10.9"
  },
  "orig_nbformat": 4
 },
 "nbformat": 4,
 "nbformat_minor": 2
}
