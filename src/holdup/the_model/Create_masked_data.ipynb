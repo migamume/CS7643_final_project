{
 "cells": [
  {
   "cell_type": "code",
   "execution_count": 1,
   "id": "acb53c11",
   "metadata": {},
   "outputs": [
    {
     "name": "stderr",
     "output_type": "stream",
     "text": [
      "WARNING:root:Failed to setup logger using env var LOG_CFG_PATH\n"
     ]
    }
   ],
   "source": [
    "from holdup.parser.replayable_hand import ReplayableHand, Streets"
   ]
  },
  {
   "cell_type": "code",
   "execution_count": 3,
   "id": "4634ab07",
   "metadata": {},
   "outputs": [],
   "source": [
    "##Change data_dir to raw data after running data parser\n",
    "\n",
    "def get_test_file_lines():\n",
    "    # To verify for yourself, copy some hands to a file in some directory and set it here\n",
    "    # Then use the csv file enumeration\n",
    "    data_dir = r\"/Users/juanesgarcia/Documents/GitHub/CS7643_final_project/src/holdup/parser/data/acpc_2011_2p_nolimit/raw\"\n",
    "\n",
    "    # Iterate over log (NOT CSV!!) files; log files are RAW\n",
    "    csv_files = [data_dir + \"/\" +f for f in os.listdir(data_dir) if f.endswith('.log')]\n",
    "    random.shuffle(csv_files)\n",
    "    return [\n",
    "        [open(csv_file, 'r').readlines()]\n",
    "        for csv_file in csv_files\n",
    "    ]\n",
    "\n"
   ]
  },
  {
   "cell_type": "code",
   "execution_count": 5,
   "id": "7ab98828",
   "metadata": {},
   "outputs": [],
   "source": [
    "data = get_test_file_lines()"
   ]
  },
  {
   "cell_type": "code",
   "execution_count": null,
   "id": "292463d2",
   "metadata": {},
   "outputs": [],
   "source": [
    "# len_data = len(data)\n",
    "len_data = 50\n",
    "\n",
    "pre_flop_matrix = []\n",
    "flop_matrix = []\n",
    "turn_matrix = []\n",
    "river_matrix = []\n",
    "\n",
    "\n",
    "pre_flop_action = []\n",
    "flop_action = []\n",
    "turn_action = []\n",
    "river_action = []\n",
    "\n",
    "for i in range(len_data):\n",
    "#     print(i)\n",
    "    sub_data = data[i][0][4:]\n",
    "    handz = [ReplayableHand(h).matrix_next_action_by_street() for h in sub_data]\n",
    "    for j in range(10):\n",
    "#         print(j)\n",
    "        for z in range(4):\n",
    "            if z == 0:\n",
    "                if len(handz[j][z]) != 0:\n",
    "                    pre_flop_matrix.append(handz[j][z][-1][0])\n",
    "                    pre_flop_action.append(handz[j][z][-1][1])\n",
    "            elif z == 1:\n",
    "                if len(handz[j][z]) != 0:\n",
    "                    flop_matrix.append(handz[j][z][-1][0])\n",
    "                    flop_action.append(handz[j][z][-1][1])\n",
    "            elif z == 2:\n",
    "                if len(handz[j][z]) != 0:\n",
    "                    turn_matrix.append(handz[j][z][-1][0])\n",
    "                    turn_action.append(handz[j][z][-1][1])\n",
    "            else:\n",
    "                if len(handz[j][z]) != 0:\n",
    "                    river_matrix.append(handz[j][z][-1][0])\n",
    "                    river_action.append(handz[j][z][-1][1])"
   ]
  }
 ],
 "metadata": {
  "hide_input": false,
  "kernelspec": {
   "display_name": "Python 3 (ipykernel)",
   "language": "python",
   "name": "python3"
  },
  "language_info": {
   "codemirror_mode": {
    "name": "ipython",
    "version": 3
   },
   "file_extension": ".py",
   "mimetype": "text/x-python",
   "name": "python",
   "nbconvert_exporter": "python",
   "pygments_lexer": "ipython3",
   "version": "3.10.0"
  }
 },
 "nbformat": 4,
 "nbformat_minor": 5
}
